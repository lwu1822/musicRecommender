{
 "cells": [
  {
   "cell_type": "code",
   "execution_count": null,
   "metadata": {},
   "outputs": [],
   "source": [
    "import json\n",
    "import spotipy\n",
    "import webbrowser\n",
    "\n",
    "username = 'Lychee'\n",
    "clientID = '62aa1d37681b4e8bb286a27868b2ef2a'\n",
    "clientSecret = 'b9d63a2f040f459d8de5b53d86e93b52'\n",
    "redirect_uri = 'http://localhost:8888/callback'\n",
    "\n",
    "oauth_object = spotipy.SpotifyOAuth(clientID, clientSecret, redirect_uri)\n",
    "token_dict = oauth_object.get_access_token()\n",
    "token = token_dict['access_token']\n",
    "spotifyObject = spotipy.Spotify(auth=token)\n",
    "user_name = spotifyObject.current_user()\n",
    "  \n",
    "# To print the response in readable format.\n",
    "print(json.dumps(user_name, sort_keys=True, indent=4))\n",
    "\n",
    "while True:\n",
    "    print(\"Welcome, \" + user_name['display_name'])\n",
    "    print(\"0 - Exit \")\n",
    "    print(\"1 - Search \")\n",
    "    user_input = int(input(\"Enter: \"))\n",
    "    if user_input == 1:\n",
    "        search_song = input(\"Enter song name: \")\n",
    "        results = spotifyObject.search(search_song, 1, 0, \"track\")\n",
    "        songs_dict = results['tracks']\n",
    "        song_items = songs_dict['items']\n",
    "        song = song_items[0]['external_urls']['spotify']\n",
    "        webbrowser.open(song)\n",
    "    elif user_input == 0:\n",
    "        print(\"Bye\")\n",
    "        break\n",
    "    else:\n",
    "        print(\"Try again\")\n"
   ]
  }
 ],
 "metadata": {
  "kernelspec": {
   "display_name": "Python 3.9.12 ('base')",
   "language": "python",
   "name": "python3"
  },
  "language_info": {
   "codemirror_mode": {
    "name": "ipython",
    "version": 3
   },
   "file_extension": ".py",
   "mimetype": "text/x-python",
   "name": "python",
   "nbconvert_exporter": "python",
   "pygments_lexer": "ipython3",
   "version": "3.9.12"
  },
  "orig_nbformat": 4,
  "vscode": {
   "interpreter": {
    "hash": "2a44d7eef9b187025524569ddf3a2a1a27be470d56a25dee2472e0cae8ca170e"
   }
  }
 },
 "nbformat": 4,
 "nbformat_minor": 2
}
